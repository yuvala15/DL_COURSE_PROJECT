{
  "nbformat": 4,
  "nbformat_minor": 0,
  "metadata": {
    "colab": {
      "name": "DL-COURSE-PROJECT.ipynb",
      "provenance": [],
      "collapsed_sections": [],
      "include_colab_link": true
    },
    "kernelspec": {
      "name": "python3",
      "display_name": "Python 3"
    },
    "accelerator": "GPU"
  },
  "cells": [
    {
      "cell_type": "markdown",
      "metadata": {
        "id": "view-in-github",
        "colab_type": "text"
      },
      "source": [
        "<a href=\"https://colab.research.google.com/github/yuvala15/DL_COURSE_PROJECT/blob/main/DL_COURSE_PROJECT.ipynb\" target=\"_parent\"><img src=\"https://colab.research.google.com/assets/colab-badge.svg\" alt=\"Open In Colab\"/></a>"
      ]
    },
    {
      "cell_type": "markdown",
      "metadata": {
        "id": "-3wpeh4h73UW"
      },
      "source": [
        "Clone the dataset from git"
      ]
    },
    {
      "cell_type": "code",
      "metadata": {
        "colab": {
          "base_uri": "https://localhost:8080/"
        },
        "id": "mrQI1HD2j1OG",
        "outputId": "82f13094-432b-4b35-c2b2-85c0634ad3b6"
      },
      "source": [
        "!git clone https://github.com/yuvala15/DL_COURSE_PROJECT.git"
      ],
      "execution_count": null,
      "outputs": [
        {
          "output_type": "stream",
          "text": [
            "Cloning into 'DL_COURSE_PROJECT'...\n",
            "remote: Enumerating objects: 6, done.\u001b[K\n",
            "remote: Counting objects: 100% (6/6), done.\u001b[K\n",
            "remote: Compressing objects: 100% (5/5), done.\u001b[K\n",
            "remote: Total 13 (delta 1), reused 6 (delta 1), pack-reused 7\u001b[K\n",
            "Unpacking objects: 100% (13/13), done.\n"
          ],
          "name": "stdout"
        }
      ]
    },
    {
      "cell_type": "code",
      "metadata": {
        "id": "9bQI_jw2oXMR"
      },
      "source": [
        "!unzip -qq  DL_COURSE_PROJECT/data/fer20131.zip -d datasets/"
      ],
      "execution_count": null,
      "outputs": []
    },
    {
      "cell_type": "markdown",
      "metadata": {
        "id": "I4QxVwv08b-V"
      },
      "source": [
        "Import modules\r\n"
      ]
    },
    {
      "cell_type": "code",
      "metadata": {
        "id": "VgAAIkb_iEBB"
      },
      "source": [
        "import os\r\n",
        "import numpy as np \r\n",
        "import pandas as pd\r\n",
        "import albumentations\r\n",
        "from albumentations import pytorch as AT\r\n",
        "import matplotlib.pyplot as plt\r\n",
        "import seaborn as sns\r\n",
        "from tqdm import tqdm\r\n",
        "\r\n",
        "from torchsummary import summary\r\n",
        "\r\n",
        "from PIL import Image\r\n",
        "\r\n",
        "import torch\r\n",
        "from torch.utils.data import Dataset, DataLoader\r\n",
        "from torch.utils import data\r\n",
        "import torch.optim as optim\r\n",
        "\r\n",
        "import torch.nn.functional as F\r\n",
        "import torch.nn as nn\r\n",
        "\r\n",
        "import torchvision\r\n",
        "import torchvision.transforms as T\r\n",
        "from torchvision.utils import make_grid\r\n",
        "\r\n",
        "%matplotlib inline"
      ],
      "execution_count": null,
      "outputs": []
    },
    {
      "cell_type": "code",
      "metadata": {
        "id": "Cy_BP4AM-VTs"
      },
      "source": [
        "use_cuda = torch.cuda.is_available()\r\n",
        "device = torch.device(\"cuda\" if use_cuda else \"cpu\")"
      ],
      "execution_count": null,
      "outputs": []
    },
    {
      "cell_type": "markdown",
      "metadata": {
        "id": "Lg7cC8ebIZgD"
      },
      "source": [
        "Read the dataset"
      ]
    },
    {
      "cell_type": "code",
      "metadata": {
        "colab": {
          "base_uri": "https://localhost:8080/"
        },
        "id": "iFZqG6EgpBmY",
        "outputId": "e4819e66-b371-43d6-8097-409621af6394"
      },
      "source": [
        "dataset = pd.read_csv('./datasets/fer20131.csv')\r\n",
        "dataset.info()\r\n",
        "dataset.head()\r\n",
        "dataset.Usage.value_counts()\r\n",
        "dataset.value_counts()\r\n",
        "\r\n",
        "dataset.Usage.unique()\r\n",
        "print(len(dataset[dataset.Usage=='Training']))\r\n",
        "print(len(dataset[dataset.Usage=='PublicTest']))\r\n",
        "print(len(dataset[dataset.Usage=='PrivateTest']))"
      ],
      "execution_count": null,
      "outputs": [
        {
          "output_type": "stream",
          "text": [
            "<class 'pandas.core.frame.DataFrame'>\n",
            "RangeIndex: 35887 entries, 0 to 35886\n",
            "Data columns (total 3 columns):\n",
            " #   Column   Non-Null Count  Dtype \n",
            "---  ------   --------------  ----- \n",
            " 0   emotion  35887 non-null  int64 \n",
            " 1   pixels   35887 non-null  object\n",
            " 2   Usage    35887 non-null  object\n",
            "dtypes: int64(1), object(2)\n",
            "memory usage: 841.2+ KB\n",
            "28709\n",
            "3589\n",
            "3589\n"
          ],
          "name": "stdout"
        }
      ]
    },
    {
      "cell_type": "markdown",
      "metadata": {
        "id": "UI20PpNI8ttH"
      },
      "source": [
        "Defining the labels"
      ]
    },
    {
      "cell_type": "code",
      "metadata": {
        "id": "WEDCSx3gvgls"
      },
      "source": [
        "emotions = {\r\n",
        "    0: 'Angry', \r\n",
        "    1: 'Disgust', \r\n",
        "    2: 'Fear', \r\n",
        "    3: 'Happy', \r\n",
        "    4: 'Sad', \r\n",
        "    5: 'Surprise', \r\n",
        "    6: 'Neutral'\r\n",
        "}"
      ],
      "execution_count": null,
      "outputs": []
    },
    {
      "cell_type": "code",
      "metadata": {
        "colab": {
          "base_uri": "https://localhost:8080/",
          "height": 513
        },
        "id": "cf48NaoNnlYM",
        "outputId": "397e1826-befe-4e78-fe76-d5d21d35e658"
      },
      "source": [
        "plt.figure(figsize=(9, 8))\r\n",
        "sns.countplot(x=dataset.emotion)\r\n",
        "_ = plt.title('Emotion Distribution')\r\n",
        "_ = plt.xticks(ticks=range(0, 7), labels=[emotions[i] for i in range(0, 7)], )"
      ],
      "execution_count": null,
      "outputs": [
        {
          "output_type": "display_data",
          "data": {
            "image/png": "[encoded data removed]",
            "text/plain": [
              "<Figure size 648x576 with 1 Axes>"
            ]
          },
          "metadata": {
            "tags": [],
            "needs_background": "light"
          }
        }
      ]
    },
    {
      "cell_type": "markdown",
      "metadata": {
        "id": "mcDBEGyB87gA"
      },
      "source": [
        "Create an array from pixels object and append it to the dataset"
      ]
    },
    {
      "cell_type": "code",
      "metadata": {
        "id": "b_dZ7ZHPulGA"
      },
      "source": [
        "dataset['pixels-array']=[[int(y) for y in x.split()] for x in dataset['pixels']]"
      ],
      "execution_count": null,
      "outputs": []
    },
    {
      "cell_type": "code",
      "metadata": {
        "colab": {
          "base_uri": "https://localhost:8080/",
          "height": 195
        },
        "id": "KXB9wAOxus3K",
        "outputId": "85f2227e-02ce-4999-c04b-6b9e272a23eb"
      },
      "source": [
        "dataset.head()"
      ],
      "execution_count": null,
      "outputs": [
        {
          "output_type": "execute_result",
          "data": {
            "text/html": [
              "<div>\n",
              "<style scoped>\n",
              "    .dataframe tbody tr th:only-of-type {\n",
              "        vertical-align: middle;\n",
              "    }\n",
              "\n",
              "    .dataframe tbody tr th {\n",
              "        vertical-align: top;\n",
              "    }\n",
              "\n",
              "    .dataframe thead th {\n",
              "        text-align: right;\n",
              "    }\n",
              "</style>\n",
              "<table border=\"1\" class=\"dataframe\">\n",
              "  <thead>\n",
              "    <tr style=\"text-align: right;\">\n",
              "      <th></th>\n",
              "      <th>emotion</th>\n",
              "      <th>pixels</th>\n",
              "      <th>Usage</th>\n",
              "      <th>pixels-array</th>\n",
              "    </tr>\n",
              "  </thead>\n",
              "  <tbody>\n",
              "    <tr>\n",
              "      <th>0</th>\n",
              "      <td>0</td>\n",
              "      <td>70 80 82 72 58 58 60 63 54 58 60 48 89 115 121...</td>\n",
              "      <td>Training</td>\n",
              "      <td>[70, 80, 82, 72, 58, 58, 60, 63, 54, 58, 60, 4...</td>\n",
              "    </tr>\n",
              "    <tr>\n",
              "      <th>1</th>\n",
              "      <td>0</td>\n",
              "      <td>151 150 147 155 148 133 111 140 170 174 182 15...</td>\n",
              "      <td>Training</td>\n",
              "      <td>[151, 150, 147, 155, 148, 133, 111, 140, 170, ...</td>\n",
              "    </tr>\n",
              "    <tr>\n",
              "      <th>2</th>\n",
              "      <td>2</td>\n",
              "      <td>231 212 156 164 174 138 161 173 182 200 106 38...</td>\n",
              "      <td>Training</td>\n",
              "      <td>[231, 212, 156, 164, 174, 138, 161, 173, 182, ...</td>\n",
              "    </tr>\n",
              "    <tr>\n",
              "      <th>3</th>\n",
              "      <td>4</td>\n",
              "      <td>24 32 36 30 32 23 19 20 30 41 21 22 32 34 21 1...</td>\n",
              "      <td>Training</td>\n",
              "      <td>[24, 32, 36, 30, 32, 23, 19, 20, 30, 41, 21, 2...</td>\n",
              "    </tr>\n",
              "    <tr>\n",
              "      <th>4</th>\n",
              "      <td>6</td>\n",
              "      <td>4 0 0 0 0 0 0 0 0 0 0 0 3 15 23 28 48 50 58 84...</td>\n",
              "      <td>Training</td>\n",
              "      <td>[4, 0, 0, 0, 0, 0, 0, 0, 0, 0, 0, 0, 3, 15, 23...</td>\n",
              "    </tr>\n",
              "  </tbody>\n",
              "</table>\n",
              "</div>"
            ],
            "text/plain": [
              "   emotion  ...                                       pixels-array\n",
              "0        0  ...  [70, 80, 82, 72, 58, 58, 60, 63, 54, 58, 60, 4...\n",
              "1        0  ...  [151, 150, 147, 155, 148, 133, 111, 140, 170, ...\n",
              "2        2  ...  [231, 212, 156, 164, 174, 138, 161, 173, 182, ...\n",
              "3        4  ...  [24, 32, 36, 30, 32, 23, 19, 20, 30, 41, 21, 2...\n",
              "4        6  ...  [4, 0, 0, 0, 0, 0, 0, 0, 0, 0, 0, 0, 3, 15, 23...\n",
              "\n",
              "[5 rows x 4 columns]"
            ]
          },
          "metadata": {
            "tags": []
          },
          "execution_count": 9
        }
      ]
    },
    {
      "cell_type": "code",
      "metadata": {
        "colab": {
          "base_uri": "https://localhost:8080/",
          "height": 267
        },
        "id": "ellRhF_5r8yW",
        "outputId": "4fd8bf6b-cf7a-450f-e337-cbc6cf7a9c0d"
      },
      "source": [
        "img_pixels=np.array(dataset['pixels-array'][20000])\r\n",
        "img_pixels_shaped=img_pixels.reshape(48,48)\r\n",
        "plt.imshow(img_pixels_shaped, interpolation='nearest',cmap='gray')\r\n",
        "plt.show()"
      ],
      "execution_count": null,
      "outputs": [
        {
          "output_type": "display_data",
          "data": {
            "image/png": "[encoded data removed]",
            "text/plain": [
              "<Figure size 432x288 with 1 Axes>"
            ]
          },
          "metadata": {
            "tags": [],
            "needs_background": "light"
          }
        }
      ]
    },
    {
      "cell_type": "markdown",
      "metadata": {
        "id": "FJxsmo59vj9s"
      },
      "source": [
        "Split the dataset to training, validation and test sets"
      ]
    },
    {
      "cell_type": "code",
      "metadata": {
        "id": "brvjg4D5vfL0"
      },
      "source": [
        "train_set=dataset[dataset.Usage=='Training']\r\n",
        "validation_set=dataset[dataset.Usage=='PrivateTest']\r\n",
        "test_set=dataset[dataset.Usage=='PublicTest']\r\n",
        "\r\n",
        "part={}\r\n",
        "part['train']= list(range(0,len(train_set)))\r\n",
        "part['valid']= list(range(0,len(validation_set)))\r\n",
        "part['test']= list(range(0,len(test_set)))\r\n",
        "train_labels=train_set['emotion'].tolist()\r\n",
        "valid_labels=validation_set['emotion'].tolist()\r\n",
        "test_labels=test_set['emotion'].tolist()"
      ],
      "execution_count": null,
      "outputs": []
    },
    {
      "cell_type": "code",
      "metadata": {
        "colab": {
          "base_uri": "https://localhost:8080/"
        },
        "id": "w1KPvDKhv36N",
        "outputId": "cd1fc862-14ed-4abe-e61b-bf579d3a3d9e"
      },
      "source": [
        "print(train_set[:10])\r\n",
        "print(train_labels[:10])"
      ],
      "execution_count": null,
      "outputs": [
        {
          "output_type": "stream",
          "text": [
            "   emotion  ...                                       pixels-array\n",
            "0        0  ...  [70, 80, 82, 72, 58, 58, 60, 63, 54, 58, 60, 4...\n",
            "1        0  ...  [151, 150, 147, 155, 148, 133, 111, 140, 170, ...\n",
            "2        2  ...  [231, 212, 156, 164, 174, 138, 161, 173, 182, ...\n",
            "3        4  ...  [24, 32, 36, 30, 32, 23, 19, 20, 30, 41, 21, 2...\n",
            "4        6  ...  [4, 0, 0, 0, 0, 0, 0, 0, 0, 0, 0, 0, 3, 15, 23...\n",
            "5        2  ...  [55, 55, 55, 55, 55, 54, 60, 68, 54, 85, 151, ...\n",
            "6        4  ...  [20, 17, 19, 21, 25, 38, 42, 42, 46, 54, 56, 6...\n",
            "7        3  ...  [77, 78, 79, 79, 78, 75, 60, 55, 47, 48, 58, 7...\n",
            "8        3  ...  [85, 84, 90, 121, 101, 102, 133, 153, 153, 169...\n",
            "9        2  ...  [255, 254, 255, 254, 254, 179, 122, 107, 95, 1...\n",
            "\n",
            "[10 rows x 4 columns]\n",
            "[0, 0, 2, 4, 6, 2, 4, 3, 3, 2]\n"
          ],
          "name": "stdout"
        }
      ]
    },
    {
      "cell_type": "markdown",
      "metadata": {
        "id": "cun1fZjJ9jBb"
      },
      "source": [
        "Define dataset class which holds regaular images and augmented images"
      ]
    },
    {
      "cell_type": "code",
      "metadata": {
        "id": "hODxYvTTxvfP"
      },
      "source": [
        "class Dataset(data.Dataset):\r\n",
        "  'Characterizes a dataset for PyTorch'\r\n",
        "  def __init__(self, dff, transforms):\r\n",
        "        'Initialization'\r\n",
        "        self.transforms = transforms\r\n",
        "        self.dff=dff\r\n",
        "\r\n",
        "  def __len__(self):\r\n",
        "        'Denotes the total number of samples'\r\n",
        "        return len(self.dff)\r\n",
        "\r\n",
        "  def __getitem__(self, index):\r\n",
        "        'Generates one sample of data'\r\n",
        "\r\n",
        "        # Load data and get label\r\n",
        "        X = self.dff.iloc[index]['pixels-array'] # Get pixels-array by Integer location by the current index in the dff\r\n",
        "        X = np.array(X).reshape(48,48,1)\r\n",
        "        y = self.dff.iloc[index]['emotion'] # Get emotion by Integer location by the current index in the dff\r\n",
        "\r\n",
        "        if self.transforms:\r\n",
        "          X = self.transforms(X)\r\n",
        "        \r\n",
        "        X = torch.cat((X,X,X),0)\r\n",
        "\r\n",
        "        return X, y"
      ],
      "execution_count": null,
      "outputs": []
    },
    {
      "cell_type": "markdown",
      "metadata": {
        "id": "hzhIiVA6-VX2"
      },
      "source": [
        "Hyper parameters of the neural network "
      ]
    },
    {
      "cell_type": "code",
      "metadata": {
        "id": "mU7cYjPTyXPy"
      },
      "source": [
        "params = {'batch_size': 64,'shuffle': True}\r\n",
        "criterion = nn.CrossEntropyLoss()\r\n",
        "epochs=9"
      ],
      "execution_count": null,
      "outputs": []
    },
    {
      "cell_type": "markdown",
      "metadata": {
        "id": "-i7JI7NoD3US"
      },
      "source": [
        "Defining wrapper class that handles the augmented images"
      ]
    },
    {
      "cell_type": "code",
      "metadata": {
        "id": "aW7m_jbZylR_"
      },
      "source": [
        "class AlbumentationWrapper(object):\r\n",
        "    def __init__(self,split):\r\n",
        "        self.split=split\r\n",
        "        self.aug=albumentations.Compose([                                         \r\n",
        "                albumentations.Normalize((0.5), (0.5)),\r\n",
        "                AT.ToTensor()\r\n",
        "                ])\r\n",
        "\t\r\n",
        "        if self.split=='train':\r\n",
        "            self.aug=albumentations.Compose([                               \r\n",
        "                    albumentations.HorizontalFlip(),\r\n",
        "                    albumentations.Cutout(2,2,2,0.5),\r\n",
        "                    albumentations.GaussNoise(),\r\n",
        "                    albumentations.Normalize((0.5), (0.5)),\r\n",
        "                    AT.ToTensor()    \r\n",
        "                    ])\r\n",
        "            \r\n",
        "    def __call__(self,img):\r\n",
        "        img = self.aug(image=img)['image']\r\n",
        "        return img"
      ],
      "execution_count": null,
      "outputs": []
    },
    {
      "cell_type": "markdown",
      "metadata": {
        "id": "-fSBlou3KbVi"
      },
      "source": [
        "Create transformed images"
      ]
    },
    {
      "cell_type": "code",
      "metadata": {
        "id": "nv0v23kbysG1"
      },
      "source": [
        "train_transforms , validation_transforms=AlbumentationWrapper('train'), AlbumentationWrapper('validation')"
      ],
      "execution_count": null,
      "outputs": []
    },
    {
      "cell_type": "code",
      "metadata": {
        "id": "mCAtO92yzzR-"
      },
      "source": [
        "training_set = Dataset(train_set, train_transforms)\r\n",
        "training_generator = data.DataLoader(training_set, **params)\r\n",
        "\r\n",
        "validation_set = Dataset(validation_set, validation_transforms)\r\n",
        "validation_generator = data.DataLoader(validation_set, **params)\r\n",
        "\r\n",
        "test_set = Dataset(test_set, validation_transforms)\r\n",
        "test_generator = data.DataLoader(test_set, **params)"
      ],
      "execution_count": null,
      "outputs": []
    },
    {
      "cell_type": "code",
      "metadata": {
        "colab": {
          "base_uri": "https://localhost:8080/",
          "height": 267
        },
        "id": "-Bcol3MPzeFH",
        "outputId": "1860aa31-8818-4111-ad4b-02d88575cd75"
      },
      "source": [
        "img_pixels=np.array(train_set['pixels-array'][0])\r\n",
        "img_pixels_shaped=img_pixels.reshape(48,48)\r\n",
        "plt.imshow(training_set.transforms(img_pixels_shaped))\r\n",
        "plt.show()"
      ],
      "execution_count": null,
      "outputs": [
        {
          "output_type": "display_data",
          "data": {
            "image/png": "[encoded data removed]",
            "text/plain": [
              "<Figure size 432x288 with 1 Axes>"
            ]
          },
          "metadata": {
            "tags": [],
            "needs_background": "light"
          }
        }
      ]
    },
    {
      "cell_type": "markdown",
      "metadata": {
        "id": "Dej0KDhJGJvT"
      },
      "source": [
        "Prints graphs according to the parameters"
      ]
    },
    {
      "cell_type": "code",
      "metadata": {
        "id": "yCTYkKD304lw"
      },
      "source": [
        "def plot(train_losses, validation_acc, label, sub_plot1, sub_plot2):\r\n",
        "  fig, axs = plt.subplots(1,2,figsize=(20,8))\r\n",
        "\r\n",
        "  axs[0].plot(train_losses, label=label)\r\n",
        "  axs[0].set_xlabel(sub_plot1[\"xlabel\"])\r\n",
        "  axs[0].set_ylabel(sub_plot1[\"ylabel\"])\r\n",
        "  axs[0].set_title(sub_plot1[\"title\"])\r\n",
        "  axs[1].plot(validation_acc, label=label)\r\n",
        "  axs[1].set_xlabel(sub_plot2[\"xlabel\"])\r\n",
        "  axs[1].set_ylabel(sub_plot2[\"ylabel\"])\r\n",
        "  axs[1].set_title(sub_plot2[\"title\"])"
      ],
      "execution_count": null,
      "outputs": []
    },
    {
      "cell_type": "markdown",
      "metadata": {
        "id": "39NLfkOYGUjD"
      },
      "source": [
        "Define the nueral network"
      ]
    },
    {
      "cell_type": "code",
      "metadata": {
        "id": "ODHA32Fk0_MD"
      },
      "source": [
        "class Net(nn.Module):\r\n",
        "    def __init__(self, dropout):\r\n",
        "        super(Net, self).__init__()\r\n",
        "        dropout_value = dropout\r\n",
        "        # Input Block\r\n",
        "        self.convblock1 = nn.Sequential(\r\n",
        "            nn.Conv2d(in_channels=3, out_channels=32, kernel_size=(3, 3), padding=1, bias=False),\r\n",
        "            nn.ReLU(),\r\n",
        "            nn.BatchNorm2d(32),\r\n",
        "        ) \r\n",
        "\r\n",
        "        self.convblock2 = nn.Sequential(\r\n",
        "            nn.Conv2d(in_channels=32, out_channels=64, kernel_size=(3, 3), padding=1, bias=False),\r\n",
        "            nn.ReLU(),\r\n",
        "            nn.BatchNorm2d(64),\r\n",
        "        ) \r\n",
        "\r\n",
        "        # TRANSITION BLOCK 1\r\n",
        "        self.pool1 = nn.MaxPool2d(2, 2) # output_size = 24 RF=7\r\n",
        "        self.convblock3 = nn.Sequential(\r\n",
        "            nn.Conv2d(in_channels=64, out_channels=128, kernel_size=(3, 3), padding=1, bias=False),\r\n",
        "            nn.ReLU(),\r\n",
        "            nn.BatchNorm2d(128),\r\n",
        "        ) \r\n",
        "\r\n",
        "        self.convblock4 = nn.Sequential(\r\n",
        "            nn.Conv2d(in_channels=128, out_channels=256, kernel_size=(3, 3), padding=1, bias=False),\r\n",
        "            nn.ReLU(),\r\n",
        "            nn.BatchNorm2d(256),\r\n",
        "        ) \r\n",
        "\r\n",
        "        self.convblock5 = nn.Sequential(\r\n",
        "            nn.Conv2d(in_channels=256, out_channels=512, kernel_size=(1, 1), padding=1 , bias=False),\r\n",
        "            nn.ReLU(),\r\n",
        "            nn.BatchNorm2d(512),\r\n",
        "        ) \r\n",
        "\r\n",
        "        # TRANSITION BLOCK 2\r\n",
        "        self.pool2 = nn.MaxPool2d(2, 2) # output_size = 12 RF=20\r\n",
        "\r\n",
        "        # CONVOLUTION BLOCK 2\r\n",
        "        self.convblock6 = nn.Sequential(\r\n",
        "            nn.Conv2d(in_channels=512, out_channels=1024, kernel_size=(3, 3), padding=1, bias=False),\r\n",
        "            nn.ReLU(),\r\n",
        "            nn.BatchNorm2d(1024),\r\n",
        "        ) \r\n",
        "\r\n",
        "        self.convblock7 = nn.Sequential(\r\n",
        "            nn.Conv2d(in_channels=1024, out_channels=1024, kernel_size=(3, 3), padding=1, bias=False),\r\n",
        "            nn.ReLU(),\r\n",
        "            nn.BatchNorm2d(1024),\r\n",
        "        )\r\n",
        "\r\n",
        "        # TRANSITION BLOCK 3\r\n",
        "        self.pool3 = nn.MaxPool2d(2, 2) # output_size =6 RF=32\r\n",
        "\r\n",
        "        self.convblock8 = nn.Sequential(\r\n",
        "             nn.Conv2d(in_channels=1024, out_channels=512, kernel_size=(3, 3), padding=1, bias=False),\r\n",
        "             nn.ReLU(),\r\n",
        "             nn.BatchNorm2d(512),\r\n",
        "         ) \r\n",
        "\r\n",
        "        self.convblock9 = nn.Sequential(\r\n",
        "             nn.Conv2d(in_channels=512, out_channels=256, kernel_size=(3, 3), padding=0, bias=False),\r\n",
        "             nn.ReLU(),\r\n",
        "             nn.BatchNorm2d(256),\r\n",
        "         )\r\n",
        "        self.gap = nn.Sequential(\r\n",
        "            nn.AvgPool2d(kernel_size=4)\r\n",
        "        ) \r\n",
        "        self.convblock10 = nn.Sequential(\r\n",
        "            nn.Conv2d(in_channels=256, out_channels=7, kernel_size=(1, 1), padding=0, bias=False)\r\n",
        "        ) \r\n",
        "\r\n",
        "    def forward(self, x):\r\n",
        "        x = self.convblock1(x)\r\n",
        "        x = self.convblock2(x)\r\n",
        "        x = self.pool1(x)\r\n",
        "        x = self.convblock3(x)        \r\n",
        "        x = self.convblock4(x)\r\n",
        "        x = self.convblock5(x)\r\n",
        "        x = self.pool2(x)\r\n",
        "        x = self.convblock6(x)\r\n",
        "        x = self.convblock7(x)\r\n",
        "        x = self.pool3(x)   \r\n",
        "        x = self.convblock8(x) \r\n",
        "        x = self.convblock9(x)    \r\n",
        "        x = self.gap(x)\r\n",
        "        x = self.convblock10(x)\r\n",
        "        x = x.view(-1, 7)\r\n",
        "        return F.log_softmax(x, dim=-1)\r\n"
      ],
      "execution_count": null,
      "outputs": []
    },
    {
      "cell_type": "markdown",
      "metadata": {
        "id": "jXn7OmnKGZ5z"
      },
      "source": [
        "Define train model *function*"
      ]
    },
    {
      "cell_type": "code",
      "metadata": {
        "id": "f9K3rVZj1Xjz"
      },
      "source": [
        "def train(model, train_loader, optimizer):\r\n",
        "  model.train()\r\n",
        "  running_loss = 0.0\r\n",
        "  correct = 0\r\n",
        "  processed = 0\r\n",
        "  did_print_epoch = False\r\n",
        "\r\n",
        "  for batch_idx, (data, target) in enumerate(train_loader):\r\n",
        "    data, target = data.to(device), target.to(device)\r\n",
        "    optimizer.zero_grad()\r\n",
        "    y_pred = model(data)\r\n",
        "    loss = criterion(y_pred, target)\r\n",
        "    running_loss += loss.item()\r\n",
        "    train_loss.append(loss)\r\n",
        "    loss.backward()\r\n",
        "    optimizer.step()\r\n",
        "\r\n",
        "    pred = y_pred.argmax(dim=1, keepdim=True)  # get the index of the max log-probability\r\n",
        "    correct += pred.eq(target.view_as(pred)).sum().item()\r\n",
        "    processed += len(data)\r\n",
        "\r\n",
        "    train_acc.append(100*correct/processed)\r\n",
        "    if(did_print_epoch == False):\r\n",
        "      print(f'Loss={loss.item()} Accuracy={100*correct/processed:0.2f}')\r\n",
        "      did_print_epoch = True"
      ],
      "execution_count": null,
      "outputs": []
    },
    {
      "cell_type": "markdown",
      "metadata": {
        "id": "_Pc06qRfGdWU"
      },
      "source": [
        "Define all the variables that will hold the results of the training and testing"
      ]
    },
    {
      "cell_type": "code",
      "metadata": {
        "id": "qQP3hKR6sLol"
      },
      "source": [
        "  train_acc = []\r\n",
        "  train_loss = []\r\n",
        "  valid_acc = []\r\n",
        "  valid_loss = []"
      ],
      "execution_count": null,
      "outputs": []
    },
    {
      "cell_type": "markdown",
      "metadata": {
        "id": "wzsZFs-dGsPb"
      },
      "source": [
        "Define model test function"
      ]
    },
    {
      "cell_type": "code",
      "metadata": {
        "id": "Im0P3fy220x9"
      },
      "source": [
        "def test(model, test_loader):\r\n",
        "    model.eval()\r\n",
        "    test_loss = 0\r\n",
        "    correct = 0\r\n",
        "    with torch.no_grad():\r\n",
        "        for data, target in test_loader:\r\n",
        "            data, target = data.to(device), target.to(device)\r\n",
        "            output = model(data)\r\n",
        "            test_loss += criterion(output, target).item()  # sum up batch loss\r\n",
        "            pred = output.argmax(dim=1, keepdim=True)  # get the index of the max log-probability\r\n",
        "            new_target=target.view_as(pred)\r\n",
        "            correct += pred.eq(target.view_as(pred)).sum().item()\r\n",
        "\r\n",
        "    test_loss /= len(test_loader.dataset)\r\n",
        "    valid_loss.append(test_loss)\r\n",
        "\r\n",
        "    print('\\nTest set: Average loss: {:.4f}, Accuracy: {}/{} ({:.2f}%)\\n'.format(\r\n",
        "        test_loss, correct, len(test_loader.dataset),\r\n",
        "        100. * correct / len(test_loader.dataset)))\r\n",
        "    \r\n",
        "    valid_acc.append(100. * correct / len(test_loader.dataset))"
      ],
      "execution_count": null,
      "outputs": []
    },
    {
      "cell_type": "markdown",
      "metadata": {
        "id": "ovsxmTz-Gwj1"
      },
      "source": [
        "Running the training and the testing simultaneously so we can see the progress in real time"
      ]
    },
    {
      "cell_type": "code",
      "metadata": {
        "id": "vOmqjdfK25HD"
      },
      "source": [
        "def run_experiment(train_generator):\r\n",
        "  model=Net(1.0)\r\n",
        "  model.to(device)\r\n",
        "  optimizer = optim.SGD(model.parameters(), lr=0.003, momentum=0.9, weight_decay=9e-4)\r\n",
        "\r\n",
        "  input_size=(3,48,48)\r\n",
        "\r\n",
        "  for epoch in range(epochs):\r\n",
        "      print(\"EPOCH: %s \" % (epoch))\r\n",
        "      train(model, train_generator, optimizer)\r\n",
        "      test(model, validation_generator)"
      ],
      "execution_count": null,
      "outputs": []
    },
    {
      "cell_type": "code",
      "metadata": {
        "colab": {
          "base_uri": "https://localhost:8080/"
        },
        "id": "SXRJHSfxmBZJ",
        "outputId": "1cfd2e94-0b91-40da-e3af-4643899b3161"
      },
      "source": [
        "%%time\r\n",
        "run_experiment(training_generator)"
      ],
      "execution_count": null,
      "outputs": [
        {
          "output_type": "stream",
          "text": [
            "EPOCH: 0 \n",
            "Loss=2.0378518104553223 Accuracy=12.50\n",
            "\n",
            "Test set: Average loss: 0.0232, Accuracy: 1587/3589 (44.22%)\n",
            "\n",
            "EPOCH: 1 \n",
            "Loss=1.6478787660598755 Accuracy=35.94\n",
            "\n",
            "Test set: Average loss: 0.0221, Accuracy: 1738/3589 (48.43%)\n",
            "\n",
            "EPOCH: 2 \n",
            "Loss=1.4680795669555664 Accuracy=40.62\n",
            "\n",
            "Test set: Average loss: 0.0186, Accuracy: 1988/3589 (55.39%)\n",
            "\n",
            "EPOCH: 3 \n",
            "Loss=1.3754565715789795 Accuracy=45.31\n",
            "\n",
            "Test set: Average loss: 0.0181, Accuracy: 2050/3589 (57.12%)\n",
            "\n",
            "EPOCH: 4 \n",
            "Loss=1.4885978698730469 Accuracy=39.06\n",
            "\n",
            "Test set: Average loss: 0.0174, Accuracy: 2114/3589 (58.90%)\n",
            "\n",
            "EPOCH: 5 \n",
            "Loss=1.4243770837783813 Accuracy=32.81\n",
            "\n",
            "Test set: Average loss: 0.0170, Accuracy: 2140/3589 (59.63%)\n",
            "\n",
            "EPOCH: 6 \n",
            "Loss=1.3570294380187988 Accuracy=45.31\n",
            "\n",
            "Test set: Average loss: 0.0173, Accuracy: 2080/3589 (57.95%)\n",
            "\n",
            "EPOCH: 7 \n",
            "Loss=1.4870200157165527 Accuracy=45.31\n",
            "\n",
            "Test set: Average loss: 0.0169, Accuracy: 2129/3589 (59.32%)\n",
            "\n",
            "EPOCH: 8 \n",
            "Loss=1.3980493545532227 Accuracy=45.31\n",
            "\n",
            "Test set: Average loss: 0.0161, Accuracy: 2224/3589 (61.97%)\n",
            "\n",
            "CPU times: user 9min 59s, sys: 4min 54s, total: 14min 53s\n",
            "Wall time: 15min 1s\n"
          ],
          "name": "stdout"
        }
      ]
    },
    {
      "cell_type": "code",
      "metadata": {
        "colab": {
          "base_uri": "https://localhost:8080/",
          "height": 513
        },
        "id": "Q6lb3sOvReRz",
        "outputId": "3d6d30ad-5638-412d-b45f-e8cfc8e1f3d7"
      },
      "source": [
        "plot1 = {}\r\n",
        "plot1[\"title\"] = \"Train Loss\"\r\n",
        "plot1[\"xlabel\"] = \"Epochs\"\r\n",
        "plot1[\"ylabel\"] = \"Loss\"\r\n",
        "\r\n",
        "plot2 = {}\r\n",
        "plot2[\"title\"] = \"Validation Accuracy\"\r\n",
        "plot2[\"xlabel\"] = \"Epochs\"\r\n",
        "plot2[\"ylabel\"] = \"Accuracy\"\r\n",
        "\r\n",
        "plot(train_loss[0::500], valid_acc, 'Loss & Accuracy', plot1, plot2)"
      ],
      "execution_count": null,
      "outputs": [
        {
          "output_type": "display_data",
          "data": {
            "image/png": "[encoded data removed]",
            "text/plain": [
              "<Figure size 1440x576 with 2 Axes>"
            ]
          },
          "metadata": {
            "tags": [],
            "needs_background": "light"
          }
        }
      ]
    },
    {
      "cell_type": "markdown",
      "metadata": {
        "id": "p6kaFdafG9Jb"
      },
      "source": [
        "Creates unalbumated training data"
      ]
    },
    {
      "cell_type": "code",
      "metadata": {
        "id": "YXyNOF64mM5h"
      },
      "source": [
        "unalbumated_train_transforms = AlbumentationWrapper('unalbumated_train')\r\n",
        "training_set = Dataset(train_set, unalbumated_train_transforms)\r\n",
        "unaugmented_training_generator = data.DataLoader(training_set, **params)"
      ],
      "execution_count": null,
      "outputs": []
    },
    {
      "cell_type": "markdown",
      "metadata": {
        "id": "F7LQ7ssUHBr6"
      },
      "source": [
        "Reset the variables and running the experminet using the new unalbumated training data"
      ]
    },
    {
      "cell_type": "code",
      "metadata": {
        "colab": {
          "base_uri": "https://localhost:8080/"
        },
        "id": "Q1WlQ89SnNJG",
        "outputId": "f2f8aa25-6abc-40f6-f592-f048e183a81d"
      },
      "source": [
        "%%time\r\n",
        "train_acc = []\r\n",
        "train_loss = []\r\n",
        "valid_acc = []\r\n",
        "valid_loss = []\r\n",
        "run_experiment(unaugmented_training_generator)"
      ],
      "execution_count": null,
      "outputs": [
        {
          "output_type": "stream",
          "text": [
            "EPOCH: 0 \n",
            "Loss=1.9827114343643188 Accuracy=9.38\n",
            "\n",
            "Test set: Average loss: 0.0194, Accuracy: 1952/3589 (54.39%)\n",
            "\n",
            "EPOCH: 1 \n",
            "Loss=1.086427092552185 Accuracy=59.38\n",
            "\n",
            "Test set: Average loss: 0.0174, Accuracy: 2088/3589 (58.18%)\n",
            "\n",
            "EPOCH: 2 \n",
            "Loss=0.9456384778022766 Accuracy=65.62\n",
            "\n",
            "Test set: Average loss: 0.0169, Accuracy: 2154/3589 (60.02%)\n",
            "\n",
            "EPOCH: 3 \n",
            "Loss=0.7505905032157898 Accuracy=71.88\n",
            "\n",
            "Test set: Average loss: 0.0178, Accuracy: 2070/3589 (57.68%)\n",
            "\n",
            "EPOCH: 4 \n",
            "Loss=0.6324546933174133 Accuracy=78.12\n",
            "\n",
            "Test set: Average loss: 0.0163, Accuracy: 2218/3589 (61.80%)\n",
            "\n",
            "EPOCH: 5 \n",
            "Loss=0.6234635710716248 Accuracy=79.69\n",
            "\n",
            "Test set: Average loss: 0.0185, Accuracy: 2142/3589 (59.68%)\n",
            "\n",
            "EPOCH: 6 \n",
            "Loss=0.3482566773891449 Accuracy=92.19\n",
            "\n",
            "Test set: Average loss: 0.0206, Accuracy: 2110/3589 (58.79%)\n",
            "\n",
            "EPOCH: 7 \n",
            "Loss=0.4340094327926636 Accuracy=85.94\n",
            "\n",
            "Test set: Average loss: 0.0213, Accuracy: 2179/3589 (60.71%)\n",
            "\n",
            "EPOCH: 8 \n",
            "Loss=0.2964884042739868 Accuracy=90.62\n",
            "\n",
            "Test set: Average loss: 0.0218, Accuracy: 2232/3589 (62.19%)\n",
            "\n",
            "CPU times: user 8min 17s, sys: 4min 58s, total: 13min 15s\n",
            "Wall time: 13min 16s\n"
          ],
          "name": "stdout"
        }
      ]
    },
    {
      "cell_type": "code",
      "metadata": {
        "colab": {
          "base_uri": "https://localhost:8080/",
          "height": 513
        },
        "id": "77Mixy7YlNGk",
        "outputId": "20b8a601-976d-4f81-d544-7deb56b70adb"
      },
      "source": [
        "plot1[\"title\"] = \"Unaugmented Train Loss\"\r\n",
        "plot1[\"xlabel\"] = \"Epochs\"\r\n",
        "plot1[\"ylabel\"] = \"Loss\"\r\n",
        "\r\n",
        "plot2[\"title\"] = \"Unaugmented Validation Accuracy\"\r\n",
        "plot2[\"xlabel\"] = \"Epochs\"\r\n",
        "plot2[\"ylabel\"] = \"Accuracy\"\r\n",
        "\r\n",
        "plot(train_loss[0::500], valid_acc, 'Loss & Accuracy', plot1, plot2)"
      ],
      "execution_count": null,
      "outputs": [
        {
          "output_type": "display_data",
          "data": {
            "image/png": "[encoded data removed]",
            "text/plain": [
              "<Figure size 1440x576 with 2 Axes>"
            ]
          },
          "metadata": {
            "tags": [],
            "needs_background": "light"
          }
        }
      ]
    }
  ]
}